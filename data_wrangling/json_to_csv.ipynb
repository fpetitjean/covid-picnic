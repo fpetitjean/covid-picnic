{
 "metadata": {
  "language_info": {
   "codemirror_mode": {
    "name": "ipython",
    "version": 3
   },
   "file_extension": ".py",
   "mimetype": "text/x-python",
   "name": "python",
   "nbconvert_exporter": "python",
   "pygments_lexer": "ipython3",
   "version": "3.8.5-final"
  },
  "orig_nbformat": 2,
  "kernelspec": {
   "name": "python_defaultSpec_1600491280863",
   "display_name": "Python 3.8.5 32-bit"
  }
 },
 "nbformat": 4,
 "nbformat_minor": 2,
 "cells": [
  {
   "source": [
    "import pandas as pd\n",
    "import json"
   ],
   "cell_type": "code",
   "metadata": {},
   "execution_count": 7,
   "outputs": []
  },
  {
   "cell_type": "code",
   "execution_count": 23,
   "metadata": {},
   "outputs": [],
   "source": [
    "def json_to_csv(json_path,csv_path):\n",
    "    with open(json_path,'r') as f:\n",
    "        res = json.loads(f.read())\n",
    "\n",
    "    with open(csv_path,'w') as out:\n",
    "        out.write('lon,lat\\n')\n",
    "        n_features = len(res['features'])\n",
    "        for i in range(0,n_features-1):\n",
    "            out.write(f\"{res['features'][i]['geometry']['coordinates'][0]},{res['features'][i]['geometry']['coordinates'][1]}\\n\")\n",
    "        out.write(f\"{res['features'][n_features-1]['geometry']['coordinates'][0]},{res['features'][n_features-1]['geometry']['coordinates'][1]}\")\n",
    "        out.close()\n",
    "    "
   ]
  },
  {
   "source": [
    "json_to_csv('bbq.geojson','bbq.csv')\n",
    "json_to_csv('playground.geojson','playground.csv')"
   ],
   "cell_type": "code",
   "metadata": {},
   "execution_count": 24,
   "outputs": []
  },
  {
   "cell_type": "code",
   "execution_count": 22,
   "metadata": {
    "tags": []
   },
   "outputs": [],
   "source": []
  },
  {
   "cell_type": "code",
   "execution_count": null,
   "metadata": {},
   "outputs": [],
   "source": []
  }
 ]
}